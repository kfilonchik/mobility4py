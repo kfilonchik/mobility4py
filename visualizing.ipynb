{
 "cells": [
  {
   "cell_type": "code",
   "execution_count": null,
   "id": "add61c4d",
   "metadata": {},
   "outputs": [],
   "source": [
    "import folium\n",
    "import pandas as pd\n",
    "\n",
    "processed_cdr_df = pd.read_pickle(\"datasets/processed_cdr.pkl\")\n",
    "# Sample the processed data\n",
    "sample_df = processed_cdr_df.sample(500)  # adjust N\n",
    "\n",
    "# Create a folium map centered on the data\n",
    "m = folium.Map(location=[38.7169, -9.1399], zoom_start=13)\n",
    "\n",
    "# Add estimated points\n",
    "for _, row in sample_df.iterrows():\n",
    "    folium.CircleMarker(\n",
    "        location=[row[\"est_lat\"], row[\"est_lon\"]],\n",
    "        radius=2,\n",
    "        color=\"blue\",\n",
    "        fill=True,\n",
    "        fill_opacity=0.5,\n",
    "        popup=f\"user: {row['unique_id']}, cell: {row['cell_id']}\"\n",
    "    ).add_to(m)\n",
    "\n",
    "# Optionally add tower locations\n",
    "towers = sample_df[[\"longitude_cell\", \"latitude_cell\", \"cell_id\"]].drop_duplicates()\n",
    "for _, row in towers.iterrows():\n",
    "    folium.Marker(\n",
    "        location=[row[\"latitude_cell\"], row[\"longitude_cell\"]],\n",
    "        icon=folium.Icon(color=\"red\", icon=\"signal\"),\n",
    "        popup=f\"Tower: {row['cell_id']}\"\n",
    "    ).add_to(m)\n",
    "\n",
    "m.save(\"tower_spread_map_3.html\")\n"
   ]
  },
  {
   "cell_type": "code",
   "execution_count": null,
   "id": "a7405c00",
   "metadata": {},
   "outputs": [],
   "source": []
  }
 ],
 "metadata": {
  "kernelspec": {
   "display_name": "azureml_py310_sdkv2",
   "language": "python",
   "name": "python3"
  },
  "language_info": {
   "codemirror_mode": {
    "name": "ipython",
    "version": 3
   },
   "file_extension": ".py",
   "mimetype": "text/x-python",
   "name": "python",
   "nbconvert_exporter": "python",
   "pygments_lexer": "ipython3",
   "version": "3.10.18"
  }
 },
 "nbformat": 4,
 "nbformat_minor": 5
}
